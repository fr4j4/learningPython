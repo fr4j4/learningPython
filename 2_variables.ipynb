{
 "cells": [
  {
   "cell_type": "markdown",
   "metadata": {},
   "source": [
    "## Variables\n",
    "\n",
    "Una variable es un espacio para almacenar datos modificables, en la memoria de un computador.<br/>\n",
    "En Python, una variable se define con la sintaxis:<br/>\n",
    "__nombre_de_la_variable = valor_de_la_variable__\n",
    "\n",
    "Cada variable, tiene un nombre y un valor, el cual define a la vez, el tipo de datos de la\n",
    "variable.<br/>\n",
    "Existe un tipo de “variable”, denominada _constante_, la cual se utiliza para definir valores fijos, que no requieran ser modificados."
   ]
  },
  {
   "cell_type": "code",
   "execution_count": 9,
   "metadata": {},
   "outputs": [],
   "source": [
    "mi_numero = 1\n",
    "saludo = 'Hola mundo!!'"
   ]
  },
  {
   "cell_type": "markdown",
   "metadata": {},
   "source": [
    "Para imprimir un valor o una variable en pantalla, en Python, se utiliza la palabra clave print:<br/>\n",
    "__print(valor o variable)__"
   ]
  },
  {
   "cell_type": "code",
   "execution_count": 10,
   "metadata": {},
   "outputs": [
    {
     "name": "stdout",
     "output_type": "stream",
     "text": [
      "1\n",
      "Hola mundo!!\n"
     ]
    }
   ],
   "source": [
    "print(mi_numero)\n",
    "print(saludo)"
   ]
  },
  {
   "cell_type": "markdown",
   "metadata": {},
   "source": [
    "## Tipos de datos\n",
    "### Número entero\n",
    "- 1\n",
    "- 1282829\n",
    "- -500\n",
    "### Numero real\n",
    "- 0.0\n",
    "- 0.1\n",
    "- -0.125\n",
    "- 1000.80\n",
    "\n",
    "### Cadena o String\n",
    "Un valor de tipo string corresponde a un conjunto de caracteres. Algunos ejemplos son:\n",
    "- 'hola'\n",
    "- \"HOLA\"\n",
    "- 'esta es UNA FRASE'\n",
    "- \"Me gusta el color azul\"\n",
    "- \"El numero 7 es de la suerte\"\n",
    "- '3727983278'\n",
    "\n",
    "Cabe notar que un string se distingue por contener caracteres no numéricos y por estar delimitado entre comillas (__\"__) o cremillas (__'__). Pueden ser una u otra, pero nunca una mezcla.\n",
    "### Booleano\n",
    "Un valor booleano corresponde a un tipo de dato lógico (verdadero/falso)\n",
    "- True\n",
    "- False\n",
    "\n",
    "Existen mas tipos de datos que iremos viendo a medida que avancemos"
   ]
  },
  {
   "cell_type": "markdown",
   "metadata": {},
   "source": [
    "## Ejercicio: Crear variables e imprimirlas en pantalla\n",
    "- __nombre__: Tipo __string__\n",
    "- __edad__: Tipo __entero__\n",
    "- __color_favorito___: Tipo __string__\n",
    "- __agno_nacimiento__: Tipo __entero__\n",
    "- __altura__: Tipo __real__"
   ]
  },
  {
   "cell_type": "markdown",
   "metadata": {},
   "source": []
  },
  {
   "cell_type": "code",
   "execution_count": null,
   "metadata": {},
   "outputs": [],
   "source": []
  }
 ],
 "metadata": {
  "kernelspec": {
   "display_name": "Python 3",
   "language": "python",
   "name": "python3"
  },
  "language_info": {
   "codemirror_mode": {
    "name": "ipython",
    "version": 3
   },
   "file_extension": ".py",
   "mimetype": "text/x-python",
   "name": "python",
   "nbconvert_exporter": "python",
   "pygments_lexer": "ipython3",
   "version": "3.7.6"
  }
 },
 "nbformat": 4,
 "nbformat_minor": 4
}
