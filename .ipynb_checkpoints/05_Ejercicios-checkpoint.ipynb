{
 "cells": [
  {
   "cell_type": "markdown",
   "metadata": {},
   "source": [
    "## Juego del Jalisco (mal perdedor)\n",
    "\n",
    "Crearemos un programa sencillo pero que servirá para explicar el buble while.<br/>\n",
    "La idea es preguntar un número al usuario, reirnos de él y decirle que nosotros tenemos un número mayor (aumentado en 1).<br/>\n",
    "El programa debe preguntar numeros y reirse del usuario hasta que el usuario ingrese un número negativo\n",
    "A continuación presentaré dos variantes del mismo programa para analizarlo"
   ]
  },
  {
   "cell_type": "code",
   "execution_count": 1,
   "metadata": {},
   "outputs": [
    {
     "name": "stdin",
     "output_type": "stream",
     "text": [
      "Ingrese un numero 100\n"
     ]
    },
    {
     "name": "stdout",
     "output_type": "stream",
     "text": [
      "Jajaja te gane, yo tengo el 101\n"
     ]
    },
    {
     "name": "stdin",
     "output_type": "stream",
     "text": [
      "Ingrese un numero 0\n"
     ]
    },
    {
     "name": "stdout",
     "output_type": "stream",
     "text": [
      "Jajaja te gane, yo tengo el 1\n"
     ]
    },
    {
     "name": "stdin",
     "output_type": "stream",
     "text": [
      "Ingrese un numero -1\n"
     ]
    },
    {
     "name": "stdout",
     "output_type": "stream",
     "text": [
      "Ya me aburri, me voy!\n"
     ]
    }
   ],
   "source": [
    "#Variante 1\n",
    "numero = int(input('Ingrese un numero'))\n",
    "\n",
    "while(numero >= 0):\n",
    "    print('Jajaja te gane, yo tengo el {0}'.format(numero + 1))\n",
    "    numero = int(input('Ingrese un numero'))\n",
    "\n",
    "print('Ya me aburri, me voy!')"
   ]
  },
  {
   "cell_type": "code",
   "execution_count": 3,
   "metadata": {},
   "outputs": [
    {
     "name": "stdin",
     "output_type": "stream",
     "text": [
      "Ingrese un numero 100\n"
     ]
    },
    {
     "name": "stdout",
     "output_type": "stream",
     "text": [
      "Jajaja te gane, yo tengo el 101\n"
     ]
    },
    {
     "name": "stdin",
     "output_type": "stream",
     "text": [
      "Ingrese un numero 0\n"
     ]
    },
    {
     "name": "stdout",
     "output_type": "stream",
     "text": [
      "Jajaja te gane, yo tengo el 1\n"
     ]
    },
    {
     "name": "stdin",
     "output_type": "stream",
     "text": [
      "Ingrese un numero 1\n"
     ]
    },
    {
     "name": "stdout",
     "output_type": "stream",
     "text": [
      "Jajaja te gane, yo tengo el 2\n"
     ]
    },
    {
     "name": "stdin",
     "output_type": "stream",
     "text": [
      "Ingrese un numero -1\n"
     ]
    },
    {
     "name": "stdout",
     "output_type": "stream",
     "text": [
      "Ya me aburri, me voy!\n"
     ]
    }
   ],
   "source": [
    "#Variante 2\n",
    "while(True):\n",
    "    numero = int(input('Ingrese un numero'))\n",
    "    if(numero < 0):\n",
    "        print('Ya me aburri, me voy!')\n",
    "        break\n",
    "    print('Jajaja te gane, yo tengo el {0}'.format(numero + 1))"
   ]
  },
  {
   "cell_type": "markdown",
   "metadata": {},
   "source": [
    "### Análisis del código\n",
    "...próximamente"
   ]
  }
 ],
 "metadata": {
  "kernelspec": {
   "display_name": "Python 3",
   "language": "python",
   "name": "python3"
  },
  "language_info": {
   "codemirror_mode": {
    "name": "ipython",
    "version": 3
   },
   "file_extension": ".py",
   "mimetype": "text/x-python",
   "name": "python",
   "nbconvert_exporter": "python",
   "pygments_lexer": "ipython3",
   "version": "3.7.6"
  }
 },
 "nbformat": 4,
 "nbformat_minor": 4
}
