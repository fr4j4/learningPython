{
 "cells": [
  {
   "cell_type": "markdown",
   "metadata": {},
   "source": [
    "## Juego del Jalisco (mal perdedor)\n",
    "\n",
    "Crearemos un programa sencillo pero que servirá para explicar el bucle while.<br/>\n",
    ">La idea es preguntar un número al usuario, reirnos de él y decirle que nosotros tenemos un número mayor (aumentado en 1).<br/>\n",
    "El programa debe preguntar números y reirse del usuario hasta que el usuario ingrese un número negativo\n",
    "\n",
    "A continuación presentaré dos variantes del mismo programa para analizarlo"
   ]
  },
  {
   "cell_type": "code",
   "execution_count": 1,
   "metadata": {},
   "outputs": [
    {
     "name": "stdin",
     "output_type": "stream",
     "text": [
      "Ingrese un numero 100\n"
     ]
    },
    {
     "name": "stdout",
     "output_type": "stream",
     "text": [
      "Jajaja te gane, yo tengo el 101\n"
     ]
    },
    {
     "name": "stdin",
     "output_type": "stream",
     "text": [
      "Ingrese un numero 0\n"
     ]
    },
    {
     "name": "stdout",
     "output_type": "stream",
     "text": [
      "Jajaja te gane, yo tengo el 1\n"
     ]
    },
    {
     "name": "stdin",
     "output_type": "stream",
     "text": [
      "Ingrese un numero -1\n"
     ]
    },
    {
     "name": "stdout",
     "output_type": "stream",
     "text": [
      "Ya me aburri, me voy!\n"
     ]
    }
   ],
   "source": [
    "#Variante 1\n",
    "numero = int(input('Ingrese un numero'))\n",
    "\n",
    "while(numero >= 0):\n",
    "    print('Jajaja te gane, yo tengo el {0}'.format(numero + 1))\n",
    "    numero = int(input('Ingrese un numero'))\n",
    "\n",
    "print('Ya me aburri, me voy!')"
   ]
  },
  {
   "cell_type": "code",
   "execution_count": 3,
   "metadata": {},
   "outputs": [
    {
     "name": "stdin",
     "output_type": "stream",
     "text": [
      "Ingrese un numero 100\n"
     ]
    },
    {
     "name": "stdout",
     "output_type": "stream",
     "text": [
      "Jajaja te gane, yo tengo el 101\n"
     ]
    },
    {
     "name": "stdin",
     "output_type": "stream",
     "text": [
      "Ingrese un numero 0\n"
     ]
    },
    {
     "name": "stdout",
     "output_type": "stream",
     "text": [
      "Jajaja te gane, yo tengo el 1\n"
     ]
    },
    {
     "name": "stdin",
     "output_type": "stream",
     "text": [
      "Ingrese un numero 1\n"
     ]
    },
    {
     "name": "stdout",
     "output_type": "stream",
     "text": [
      "Jajaja te gane, yo tengo el 2\n"
     ]
    },
    {
     "name": "stdin",
     "output_type": "stream",
     "text": [
      "Ingrese un numero -1\n"
     ]
    },
    {
     "name": "stdout",
     "output_type": "stream",
     "text": [
      "Ya me aburri, me voy!\n"
     ]
    }
   ],
   "source": [
    "#Variante 2\n",
    "while(True):\n",
    "    numero = int(input('Ingrese un numero'))\n",
    "    if(numero < 0):\n",
    "        print('Ya me aburri, me voy!')\n",
    "        break\n",
    "    print('Jajaja te gane, yo tengo el {0}'.format(numero + 1))"
   ]
  },
  {
   "cell_type": "markdown",
   "metadata": {},
   "source": [
    "### Análisis del código\n",
    "#### Variante 1:\n",
    "En primer lugar, creamos una variable llamada número que va a almacenar el valor del número ingresado por el usuario. En esta misma línea capturamos el valor de la entrada y la __transformamos__ a tipo __int__.<br/>\n",
    "\n",
    "Luego, sabiendo que el programa se reirá del usuario y preguntará el número por siempre hasta que el número ingresado sea negativo, creamos la condición ```numero < 0``` en el ciclo __while__ para indicar que repetiremos lo que se encuentra dentro de esta estructura de control hasta mientras esta se cumpla.<br/>\n",
    "\n",
    "Dentro de la estructura de control __while__, como ya tenemos el numero ingresado por el usuario, simplemente imprimimos un mensaje de burla, diciendo que tenemos el número (numero + 1). La última línea dentro del while indica que volveremos a capturar la entrada y transformarla a número entero para que vuelva a evaluarse la condición de repetición del ciclo. \n",
    "\n",
    "La última línea del programa, la que se encuentra al final del bloque, imprime un mensaje de despedida. Es importante darse cuenta de que este __mensaje de despedida se imprimirá sólo cuando el ciclo while haya finalizado__.\n",
    "#### Variante 2:\n",
    "\n",
    "La variante 2 tiene un enfoque distinto: Simplemente decimos que el ciclo qhile se repetirá para siempre, es por eso que como condición le pasamos el booleano __True__.<br/>\n",
    "Luego, dentro del ciclo, pedimos el número al usuario, lo convertimos a tipo int y lo guardamos en la variable \"numero\".<br/>\n",
    "Después, dentro del bucle utilizamos un condicional preguntando si el número es menor que cero (osea, negativo). En caso de que el número sea negativo, imprimiremos el mensaje de despedida y  utilizaremos la intrucción __break__. La intrucción __break__ sirve para \"rompoer\" y terminar el ciclo que lo encierre.<br/>\n",
    "En caso de que el número no sea negativo, el condicional no se ejecutará y se imprimirá el mensaje de burla mostrando el número aumentado en 1.\n"
   ]
  },
  {
   "cell_type": "markdown",
   "metadata": {},
   "source": [
    "## Desafío #1\n",
    "> Crear un programa de emule un juego de adivinar el número: El programa deberá generar un número aleatorio entre 1 y 10. <br/>\n",
    "Luego, el programa debe pedir al usuario que adivine el número generado. El usuario tendrá tres intentos para poder adivinar.<br/>\n",
    "Por cada intento fallido debe mostrarse en pantalla si es que el número generado es menor o mayor que el número ingresado por el usuario<br/>\n",
    "Si logra adivinar el número debe mostrarse en pantalla un mensaje de felicitaciones, en caso contrario, un mensaje de fin del juego.\n",
    "\n",
    "### Ayuda: Generar números aleatorios\n",
    "Para generar numeros aleatorios, primero __importaremos__ un __paquete__ de Python llamado _Random_. Mas adelante veremos que son los paquetes y que significa importarlos.<br/>\n",
    "Una vez importado el paquete Random, podemos usar la función __randint__ para generar un número aleatorio entre dos valores posibles:\n",
    "\n",
    "```python\n",
    "from random import randint\n",
    "numero_generado = randint(0,100)\n",
    "print(numero_generado)\n",
    "```\n",
    "\n",
    "En este ejemplo, el número generado será aleatorio entre 0 y 100.<br/>\n",
    "Intenta copiar este código y ejecutarlo para comprobar que funciona.\n",
    "### Ejemplo de juego:\n",
    "![imagen_1](./static/img/juego_adivina_1.png)\n",
    "![imagen_2](./static/img/juego_adivina_2.png)"
   ]
  },
  {
   "cell_type": "code",
   "execution_count": null,
   "metadata": {},
   "outputs": [],
   "source": []
  }
 ],
 "metadata": {
  "kernelspec": {
   "display_name": "Python 3",
   "language": "python",
   "name": "python3"
  },
  "language_info": {
   "codemirror_mode": {
    "name": "ipython",
    "version": 3
   },
   "file_extension": ".py",
   "mimetype": "text/x-python",
   "name": "python",
   "nbconvert_exporter": "python",
   "pygments_lexer": "ipython3",
   "version": "3.7.6"
  }
 },
 "nbformat": 4,
 "nbformat_minor": 4
}
