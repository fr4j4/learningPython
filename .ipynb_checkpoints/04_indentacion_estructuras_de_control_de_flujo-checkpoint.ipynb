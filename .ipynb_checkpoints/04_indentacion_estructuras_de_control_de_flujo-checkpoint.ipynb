{
 "cells": [
  {
   "cell_type": "markdown",
   "metadata": {},
   "source": [
    "Antes de comenzar con las sentencias de control es necesario mostrar algunos conceptos importantes"
   ]
  },
  {
   "cell_type": "markdown",
   "metadata": {},
   "source": [
    "# Asignación múltiple de variables\n",
    "\n",
    "Una de las múltiples ventajas de Python es la de poder asignar en una sola instrucción, múltiples variables:"
   ]
  },
  {
   "cell_type": "code",
   "execution_count": 1,
   "metadata": {},
   "outputs": [],
   "source": [
    "a, b, c = 'hola', 20, False"
   ]
  },
  {
   "cell_type": "markdown",
   "metadata": {},
   "source": [
    "En una sola instrucción, estamos declarando tres variables: a, b y c y asignándoles un valor concreto a cada una:"
   ]
  },
  {
   "cell_type": "code",
   "execution_count": 2,
   "metadata": {},
   "outputs": [
    {
     "name": "stdout",
     "output_type": "stream",
     "text": [
      "hola\n",
      "20\n",
      "False\n"
     ]
    }
   ],
   "source": [
    "print(a)\n",
    "print(b)\n",
    "print(c)"
   ]
  },
  {
   "cell_type": "markdown",
   "metadata": {},
   "source": [
    "La asignación múltiple de variables puede darse también utilizando como valores el contenido de una tupla:"
   ]
  },
  {
   "cell_type": "code",
   "execution_count": 3,
   "metadata": {},
   "outputs": [
    {
     "name": "stdout",
     "output_type": "stream",
     "text": [
      "Hola Mundo!\n",
      "2020\n"
     ]
    }
   ],
   "source": [
    "mi_tupla = ('Hola Mundo!',2020)  # creamos una tupla\n",
    "\n",
    "texto = mi_tupla[0]\n",
    "agno = mi_tupla[1]\n",
    "\n",
    "print(texto)\n",
    "print(agno)"
   ]
  },
  {
   "cell_type": "code",
   "execution_count": 6,
   "metadata": {},
   "outputs": [
    {
     "name": "stdout",
     "output_type": "stream",
     "text": [
      "Hola Mundo!\n",
      "2020\n"
     ]
    }
   ],
   "source": [
    "texto, agno = mi_tupla           # creamos las variables texto y agno, que contendrán como valor el contenido de la tupla en el orden dado\n",
    "print(texto)\n",
    "print(agno)"
   ]
  },
  {
   "cell_type": "markdown",
   "metadata": {},
   "source": [
    "O de una lista"
   ]
  },
  {
   "cell_type": "code",
   "execution_count": 7,
   "metadata": {},
   "outputs": [
    {
     "name": "stdout",
     "output_type": "stream",
     "text": [
      "Chile\n",
      "Valdivia\n"
     ]
    }
   ],
   "source": [
    "mi_lista = ['Chile', 'Valdivia']\n",
    "pais, ciudad = mi_lista\n",
    "\n",
    "print(pais)\n",
    "print(ciudad)"
   ]
  },
  {
   "cell_type": "markdown",
   "metadata": {},
   "source": [
    "# Indentación\n",
    "[[Ver definición en wikipedia](https://es.wikipedia.org/wiki/Indentaci%C3%B3n)]\n",
    "\n",
    "En un lenguaje informático, la indentación es lo que la sangría al lenguaje humano escrito (a nivel formal). Corresponde a mover bloques de texto a la derecha insertando o espacios o tabulaciones.\n",
    "No todos los lenguajes de programación necesitan indentación, aunque si es implementada en la mayoría para mejorar la legibilidad del código fuente.\n",
    "\n",
    "En Python es obligatoria la indentación ya que de ella dependerá su escritura."
   ]
  },
  {
   "cell_type": "markdown",
   "metadata": {},
   "source": [
    "# Estructuras de control de flujo\n",
    "\n",
    "Una estructura de control de flujo, es un bloque de código que permite agrupar instrucciones de manera controlada.<br/>\n",
    "Las estructuras de control de flujo nos permiten cambiar el \"flujo\" de ejecución de nuestro programa\n",
    "\n",
    "Veremos dos tipos de estructuras de control de flujo: \n",
    " - __Estructuras de control de flujo condicionales__\n",
    " - __Estructuras de control de flujo iterativas__\n",
    "\n",
    "## Relación entre indentación y sentencias de control\n",
    "Una indentación de 4 espacios en blanco o una tabulación, indicará que las instrucciones indentadas, forman parte de una misma estructura de control\n",
    "\n",
    "Una estructura de control, encontces se defina de la siguiente forma:\n",
    "```python\n",
    "inicio_estructura_de_control:\n",
    "    expresiones\n",
    "```"
   ]
  },
  {
   "cell_type": "markdown",
   "metadata": {},
   "source": [
    "## Estructuras de control de flujo condicionales\n",
    "\n",
    "Las estructuras de control de flujo condicionales (desde ahora \"condicionales\"), son aquellas que nos permiten evaluar si una o más condiciones se cumplen, para decir que acción o conjunto de acciones vamos a ejecutar.<br/>\n",
    "\n",
    "La __evaluación de condiciones__, sólo __puede arrojar__ 1 de dos resultados: __verdadero o falso__ (True o False). \n",
    "\n",
    "### Ejemplo del semáforo:\n",
    "En la vida diaria, actuamos de acuerdo a la evaluación de condiciones, de manera mucho más frecuente de lo que en realidad creemos:\n",
    "> __Si__ el semáforo está en verde, cruzo la calle. __Sino__, espero a que el semáforo se ponga en verde.\n",
    "\n",
    "A veces, también evaluamos más de una condición para ejecutar una determinada acción:\n",
    "> __Si__ llega la boleta de la luz __y__ tengo dinero, pago la boleta.\n",
    "\n",
    "Para describir la evaluación a realizar sobre una condición, se utilizan __operadores relacionales__ (vistos anteriormente):\n",
    "\n",
    "| Símbolo | Significado | Ejemplo | Resultado |\n",
    "| --- | --- | --- | --- |\n",
    "| == | Igual que | 5 == 7 | False |\n",
    "| != | Distinto que | rojo != verde | True|\n",
    "| > | Mayor que | 5 > 12 | False |\n",
    "| < | Menor que | 10 < 20 | True |\n",
    "| >= | Mayor o igual que | 12 >= 16 | False |\n",
    "| <= | Menor o igual que | 12 <= 12 | True |\n",
    "\n",
    "Y para evaluar más de una condición simultáneamente, se utilizan los __operadores lógicos__(vistos anteriormente):\n",
    "\n",
    "| Operador | Ejemplo | Resultado |\n",
    "| --- | --- | --- |\n",
    "| __and__ (y) | 5 == 7 and 7 < 12 | False y False -> False |\n",
    "|  | 9 < 12 and 12 > 7 | True y True -> True |\n",
    "|  | 9 < 12 and 12 > 15 | True y False -> False |\n",
    "| __or__ (o) | 12 == 12 or 15 < 7 | True o False -> True |\n",
    "| | 7 > 5 or 9 < 12 | True o True -> True |\n",
    "| __not__ (negación) | not True | False |\n",
    "|  | not False | True |\n",
    "\n",
    "Las estructuras de control de flujo condicionales, se definen mediante el uso de tres palabras claves reservadas de Python:\n",
    "- __if__ (si)\n",
    "- __elif__ (sino, si)\n",
    "- __else__ (sino)\n",
    "\n",
    "Algunos ejemplos:\n",
    "\n",
    "> Si el semáforo esta en verde, cruzar la calle. Sino, esperar.\n",
    "\n",
    "```python\n",
    "if semaforo == verde:\n",
    "    print('Cruzar la calle')\n",
    "else:\n",
    "    print('Esperar')\n",
    "```\n",
    "\n",
    "> Si gasto hasta \\\\$100, pago con dinero en efectivo. Sino, si gasto\n",
    "más de \\\\$100 pero menos de \\\\$300, pago con tarjeta de débito.\n",
    "Sino, pago con tarjeta de crédito.\n",
    "\n",
    "```python\n",
    "if compra <= 100:\n",
    "    print('Pago en efectivo')\n",
    "elif compra > 100 and compra < 300:\n",
    "    print('Pago con tarjeta de débito')\n",
    "else:\n",
    "    print('Pago con tarjeta de crédito')\n",
    "```\n",
    "\n",
    "> Si la compra es mayor a \\\\$100, obtengo un descuento del 10%\n",
    "\n",
    "```python\n",
    "total_a_pagar = total_compra\n",
    "\n",
    "if total_compra > 100:\n",
    "    tasa_descuento = 10\n",
    "    total_descuento = total_compra * tasa_descuento / 100\n",
    "    total_a_pagar = total_compra – total_descuento\n",
    "    \n",
    "print(total_a_pagar)\n",
    "```\n",
    "\n",
    "### Ejercicio:\n",
    "Dado el _diccionaro_ \"persona\", implemente un código que utilice un condicional para determinar si es o no mayor de edad.<br/> Use __if__ y __else__ para imprimir \"Es mayor de edad\" o \"Es menor de edad\" según corresponda"
   ]
  },
  {
   "cell_type": "code",
   "execution_count": 13,
   "metadata": {},
   "outputs": [
    {
     "name": "stdout",
     "output_type": "stream",
     "text": [
      "mayor de edad\n"
     ]
    }
   ],
   "source": [
    "persona = {\n",
    "    'nombre': 'Miguel',\n",
    "    'apellido': 'Perez',\n",
    "    'edad': 20\n",
    "}\n",
    "#  escribir codigo abajo\n",
    "\n",
    "if( persona['edad'] >= 18):\n",
    "    print(\"mayor de edad\")\n",
    "else:\n",
    "    print(\"menor de edad\")\n"
   ]
  },
  {
   "cell_type": "markdown",
   "metadata": {},
   "source": [
    "## Estructuras de control de flujo iterativas\n",
    "\n",
    "A diferencia de las estructuras de control condicionales, las iterativas (también llamadas cíclicas o bucles), nos permiten ejecutar un código, de manera repetiva, mientras se cumpla una condición.\n",
    "\n",
    "En python se dispone de dos estructuras iterativas:\n",
    "- El bucle __while__\n",
    "- El bucle __for__\n",
    "\n",
    "### Bucle While\n",
    "Este bucle, se encarga de ejecutar una misma acción o conjunto de acciones __mientras que__ una determinada condición se cumpla:\n",
    "> Mientras que agno sea menor o igual a 2020, imprimir la frase “Informes del Agno [valor de agnio]”\n",
    "\n",
    "```python\n",
    "agno = 2000\n",
    "while agno <= 2020:\n",
    "    print('Informes del Agno', agno)\n",
    "    agno = agno + 1\n",
    "```\n",
    "\n",
    "#### Ejercicio: Copia y pega el código anterior en el bloque de acontinuación, ejecútalo y observa lo que sucede"
   ]
  },
  {
   "cell_type": "code",
   "execution_count": 24,
   "metadata": {},
   "outputs": [
    {
     "name": "stdout",
     "output_type": "stream",
     "text": [
      "Informes del Agno 2000\n",
      "Informes del Agno 2001\n",
      "Informes del Agno 2002\n",
      "Informes del Agno 2003\n",
      "Informes del Agno 2004\n",
      "Informes del Agno 2005\n",
      "Informes del Agno 2006\n",
      "Informes del Agno 2007\n",
      "Informes del Agno 2008\n",
      "Informes del Agno 2009\n",
      "Informes del Agno 2010\n",
      "Informes del Agno 2011\n",
      "Informes del Agno 2012\n",
      "Informes del Agno 2013\n",
      "Informes del Agno 2014\n",
      "Informes del Agno 2015\n",
      "Informes del Agno 2016\n",
      "Informes del Agno 2017\n",
      "Informes del Agno 2018\n",
      "Informes del Agno 2019\n",
      "Informes del Agno 2020\n"
     ]
    }
   ],
   "source": [
    "# pegar aquí!\n",
    "agno = 2000\n",
    "while agno <= 2020:\n",
    "    print('Informes del Agno', agno)\n",
    "    agno = agno + 1"
   ]
  },
  {
   "cell_type": "markdown",
   "metadata": {},
   "source": [
    "Si observas la última línea del código de ejemplo:\n",
    "```python\n",
    "agno = agno + 1\n",
    "```\n",
    "Podrás notar que en cada iteración, aumentamos el valor de la variables que condiciona el bucle (agno).<br/>\n",
    "Si no lo hiciéramos, esta variable siempre sería igual a 2000 y el bucle se ejecutaría de forma infinita, ya que la condición (__agno <= 2020__) siempre se estaría cumpliendo.\n",
    "\n",
    "### Juego del Jalisco (mal perdedor)\n",
    "\n",
    "Crearemos un programa sencillo pero que servirá para explicar el bucle while.<br/>\n",
    ">La idea es preguntar un número al usuario, reirnos de él y decirle que nosotros tenemos un número mayor (aumentado en 1).<br/>\n",
    "El programa debe preguntar números y reirse del usuario hasta que el usuario ingrese un número negativo\n",
    "\n",
    "A continuación presentaré dos variantes del mismo programa para analizarlo"
   ]
  },
  {
   "cell_type": "code",
   "execution_count": 26,
   "metadata": {},
   "outputs": [
    {
     "name": "stdin",
     "output_type": "stream",
     "text": [
      "Ingrese un numero 80\n"
     ]
    },
    {
     "name": "stdout",
     "output_type": "stream",
     "text": [
      "Jajaja te gane, yo tengo el 81\n"
     ]
    },
    {
     "name": "stdin",
     "output_type": "stream",
     "text": [
      "Ingrese un numero -1\n"
     ]
    },
    {
     "name": "stdout",
     "output_type": "stream",
     "text": [
      "Ya me aburri, me voy!\n"
     ]
    }
   ],
   "source": [
    "#Variante 1\n",
    "numero = int(input('Ingrese un numero'))\n",
    "\n",
    "while(numero >= 0):\n",
    "    print('Jajaja te gane, yo tengo el {0}'.format(numero + 1))\n",
    "    numero = int(input('Ingrese un numero'))\n",
    "\n",
    "print('Ya me aburri, me voy!')"
   ]
  },
  {
   "cell_type": "code",
   "execution_count": 30,
   "metadata": {},
   "outputs": [
    {
     "name": "stdin",
     "output_type": "stream",
     "text": [
      "Ingrese un numero -1\n"
     ]
    },
    {
     "name": "stdout",
     "output_type": "stream",
     "text": [
      "Ya me aburri, me voy!\n"
     ]
    }
   ],
   "source": [
    "#Variante 2\n",
    "while(True):\n",
    "    numero = int(input('Ingrese un numero'))\n",
    "    if(numero < 0):\n",
    "        print('Ya me aburri, me voy!')\n",
    "        break\n",
    "    print('Jajaja te gane, yo tengo el {0}'.format(numero + 1))"
   ]
  },
  {
   "cell_type": "markdown",
   "metadata": {},
   "source": [
    "### Análisis del código\n",
    "#### Variante 1:\n",
    "En primer lugar, creamos una variable llamada número que va a almacenar el valor del número ingresado por el usuario. En esta misma línea capturamos el valor de la entrada y la __transformamos__ a tipo __int__.<br/>\n",
    "\n",
    "Luego, sabiendo que el programa se reirá del usuario y preguntará el número por siempre hasta que el número ingresado sea negativo, creamos la condición ```numero < 0``` en el ciclo __while__ para indicar que repetiremos lo que se encuentra dentro de esta estructura de control hasta mientras esta se cumpla.<br/>\n",
    "\n",
    "Dentro de la estructura de control __while__, como ya tenemos el numero ingresado por el usuario, simplemente imprimimos un mensaje de burla, diciendo que tenemos el número (numero + 1). La última línea dentro del while indica que volveremos a capturar la entrada y transformarla a número entero para que vuelva a evaluarse la condición de repetición del ciclo. \n",
    "\n",
    "La última línea del programa, la que se encuentra al final del bloque, imprime un mensaje de despedida. Es importante darse cuenta de que este __mensaje de despedida se imprimirá sólo cuando el ciclo while haya finalizado__.\n",
    "#### Variante 2:\n",
    "\n",
    "La variante 2 tiene un enfoque distinto: Simplemente decimos que el ciclo qhile se repetirá para siempre, es por eso que como condición le pasamos el booleano __True__.<br/>\n",
    "Luego, dentro del ciclo, pedimos el número al usuario, lo convertimos a tipo int y lo guardamos en la variable \"numero\".<br/>\n",
    "Después, dentro del bucle utilizamos un condicional preguntando si el número es menor que cero (osea, negativo). En caso de que el número sea negativo, imprimiremos el mensaje de despedida y  utilizaremos la intrucción __break__. La intrucción __break__ sirve para \"romper\" y terminar el ciclo que lo encierre.<br/>\n",
    "En caso de que el número no sea negativo, el condicional no se ejecutará y se imprimirá el mensaje de burla mostrando el número aumentado en 1."
   ]
  },
  {
   "cell_type": "markdown",
   "metadata": {},
   "source": [
    "### Bucle for\n",
    "\n",
    "El bucle for, en Python es aquel que nos permitirá leer sobre una variable compleja, por ejemplo, listas o tuplas:\n",
    "\n",
    ">Por cada nombre en mi_lista, imprimir nombre\n",
    "\n",
    "```python\n",
    "mi_lista = ['Juan', 'Antonio', 'Pedro', 'Herminio']\n",
    "for nombre in mi_lista:\n",
    "    print(nombre)\n",
    "```\n",
    "\n",
    "#### Ejercicio: Copia y pega el código en el bloque de acontinuación, ejecútalo y observa lo que sucede"
   ]
  },
  {
   "cell_type": "code",
   "execution_count": 2,
   "metadata": {},
   "outputs": [
    {
     "name": "stdout",
     "output_type": "stream",
     "text": [
      "Juan\n",
      "Antonio\n",
      "Pedro\n",
      "Herminio\n"
     ]
    }
   ],
   "source": [
    "# pegar aquí!\n",
    "mi_lista = ['Juan', 'Antonio', 'Pedro', 'Herminio']\n",
    "\n",
    "for i in mi_lista:\n",
    "    print(i)\n",
    "    "
   ]
  },
  {
   "cell_type": "markdown",
   "metadata": {},
   "source": [
    "> Por cada color en mi_tupla, imprimir color\n",
    "```python\n",
    "mi_tupla = ('rojo', 'verde', 'celeste', 'amarillo')\n",
    "for color in mi_tupla:\n",
    "    print(color)\n",
    "```\n",
    "#### Ejercicio: Copia y pega el código en el bloque de acontinuación, ejecútalo y observa lo que sucede"
   ]
  },
  {
   "cell_type": "code",
   "execution_count": 4,
   "metadata": {},
   "outputs": [
    {
     "name": "stdout",
     "output_type": "stream",
     "text": [
      "rojo\n",
      "verde\n",
      "celeste\n",
      "amarillo\n"
     ]
    }
   ],
   "source": [
    "# pegar aquí!\n",
    "\n",
    "colores = ('rojo', 'verde', 'celeste', 'amarillo')\n",
    "\n",
    "for color in colores:\n",
    "    print(color)"
   ]
  },
  {
   "cell_type": "markdown",
   "metadata": {},
   "source": [
    "En los ejemplos anteriores, __nombre__ y __color__, son dos variables declaradas __en tiempo de ejecución__ (es decir, se declaran dinámicamente durante el bucle), asumiendo como valor,\n",
    "el de cada elemento de la lista (o tupla) en cada iteración.\n",
    "\n",
    "#### Utilizando la función __range__ en un for\n",
    "\n",
    "![funcion range](static/img/python_range.png)\n",
    "\n",
    "La función __range__ genera números enteros entre un número de inicio y otro de fin (no lo incluye), explícitamente genera un _objeto range_ (todavía \"no sabemos\" que es un objeto).\n",
    "Esto lo podemos comprobar imprimiento directamente el tipo de la función range en pantalla:\n",
    "\n",
    "```python\n",
    "print(type(range(0,10)))\n",
    "```\n",
    "\n"
   ]
  },
  {
   "cell_type": "code",
   "execution_count": 40,
   "metadata": {},
   "outputs": [
    {
     "name": "stdout",
     "output_type": "stream",
     "text": [
      "<class 'range'>\n"
     ]
    }
   ],
   "source": [
    "#pegar aquí\n",
    "print(type(range(0,10)))"
   ]
  },
  {
   "cell_type": "markdown",
   "metadata": {},
   "source": [
    "Este objeto de tipo range necesita ser __iterado__ para poder acceder a cada uno de los números que es capaz de generar.<br/>\n",
    "Copia y pega éste código en el bloque de abajo para observar qué sucede:\n",
    "\n",
    "```python\n",
    "for numero in range(0,10):\n",
    "    print(numero)\n",
    "```"
   ]
  },
  {
   "cell_type": "code",
   "execution_count": 5,
   "metadata": {},
   "outputs": [
    {
     "name": "stdout",
     "output_type": "stream",
     "text": [
      "0\n",
      "1\n",
      "2\n",
      "3\n",
      "4\n",
      "5\n",
      "6\n",
      "7\n",
      "8\n",
      "9\n"
     ]
    }
   ],
   "source": [
    "#pegar aquí\n",
    "\n",
    "for numero in range(0,10):\n",
    "    print(numero)"
   ]
  },
  {
   "cell_type": "markdown",
   "metadata": {},
   "source": [
    "Como podemos observar, la función __range__ con los parámetros _0_ y _10_ generan efectivamente números entre 0 y 9."
   ]
  },
  {
   "cell_type": "markdown",
   "metadata": {},
   "source": [
    "\n",
    "## Solicitando datos al usuario ([fuente](https://entrenamiento-python-basico.readthedocs.io/es/latest/leccion7/entrada_salida.html))\n",
    "\n",
    "Una de las interacciones mas comúnes en los programas de comptador son las de entrada y salida de datos.\n",
    "### Salida estándar\n",
    "La forma general de mostrar información por pantalla es mediante una consola de comando, generalmente podemos mostrar texto y variables separándolos con comas, para este se usa la función __print__.<br/>Nosotros ya hemos utilizado print para mostrar valores en pantalla.\n",
    "\n",
    "### Entrada estándar\n",
    "Para pedir información al usuario, debe utilizar las funciones integradas en el interprete del lenguaje, así como los argumentos de línea de comandos.\n",
    "La función input() siempre devuelve un valor numérico:\n",
    "\n",
    "Dado el programa:\n",
    "```python\n",
    "edad = input('Usuario: ¿Que edad tiene usted?: ')\n",
    "print(edad)\n",
    "```\n",
    "Al ejecutarlo se mostrará el mensaje, y se esperará a que el usuario ingrese la respuesta para luego continuar con el programa y mostrar el número en pantalla.\n",
    "```console\n",
    "Usuario: ¿Que edad tiene usted?: 38\n",
    "38\n",
    "```\n",
    "\n",
    "#### Ejercicio: Copia y pega el código en el bloque a continuación y ejecútalo para interactuar con el programa\n"
   ]
  },
  {
   "cell_type": "code",
   "execution_count": 6,
   "metadata": {},
   "outputs": [
    {
     "name": "stdin",
     "output_type": "stream",
     "text": [
      "Usuario: ¿Que edad tiene usted?:  10\n"
     ]
    },
    {
     "name": "stdout",
     "output_type": "stream",
     "text": [
      "10\n"
     ]
    }
   ],
   "source": [
    "# pegar aquí!\n",
    "edad = input('Usuario: ¿Que edad tiene usted?: ')\n",
    "print(edad)"
   ]
  },
  {
   "cell_type": "markdown",
   "metadata": {},
   "source": [
    "De esta forma podemos obtener información de parte del usuario que esté ejecutando el programa.<br/>\n",
    "Es importante saber que __toda la información obtenida por la función input siempre será de tipo string (str)__.<br/>\n",
    "Esto lo podemos corroborar imprimiendo el tipo de dato que almacena la variable edad con la función __type__.\n",
    "\n",
    "```python\n",
    "edad = input('Usuario: ¿Que edad tiene usted?: ')\n",
    "print(type(edad))\n",
    "```\n",
    "\n",
    "#### Ejercicio: Copia y pega el código en el bloque a continuación y ejecútalo para interactuar con el programa"
   ]
  },
  {
   "cell_type": "code",
   "execution_count": 7,
   "metadata": {},
   "outputs": [
    {
     "name": "stdin",
     "output_type": "stream",
     "text": [
      "Usuario: ¿Que edad tiene usted?:  100\n"
     ]
    },
    {
     "name": "stdout",
     "output_type": "stream",
     "text": [
      "<class 'str'>\n"
     ]
    }
   ],
   "source": [
    "# pegar aquí!\n",
    "edad = input('Usuario: ¿Que edad tiene usted?: ')\n",
    "print(type(edad))"
   ]
  },
  {
   "cell_type": "markdown",
   "metadata": {},
   "source": [
    "Al ejecutar el código mostrando el __tipo de dato__ almacenado en edad podemos notar que es de tipo str (string)<br>\n",
    "Si necesitamos que el valor capturado sea de otro tipo, por ejemplo entero, necesitamos hacer lo que se denomina __casting__.\n",
    "\n",
    "## Conversión de tipos o casting\n",
    "\n",
    "A veces es necesario convertir los tipos de las variables que estamos utilizando, no es lo mismo `1+0` que `'1'+'0'` o que `'1'+0`.<br/>\n",
    "- CASO 1 (`1 + 0`): Estamos aplicando el operador aritmético __+__ a los operandos __1__ y __0__.<br/>Ambos operandos son de __tipo entero__. Lo que resulta de la operación aritmética es otro valor de tipo entero que se obtendrá a partir de la suma matemática de ambos operandos (1+0=1).  \n",
    "\n",
    "- CASO 2 (`'1'+'0'`): Estamos aplicando el operador aritmético __+__ a los operandos __'1'__ y __'0'__. Ambos operandos son de __tipo string__. Si bien en la matemática se trabaja con números, Python le ha dado otra definición de operación al símbolo __+__ cuando se trara de operar valores de tipos _string_: __La concatenación__. La concatenación es simplemente juntar en nu nuevo string los operandos, en este ejemplo el resultado de `'1'+'0'` es otro string con el valor `'10'`. \n",
    "\n",
    "- CASO 3 (`'1'+ 0`): Estamos aplicando el operador aritmético __+__ a los operadores __'1'__ y __0__. La diferencia con los casos anteriores es que __los operandos no tienen el mismo tipo de valor__: el primero es de tipo string (_str_) y el segundo de tipo entero (_int_). Python no cuenta con alguna definición del símbolo __+__ para operandos de tipo __str__ e __int__, es mas, si intentamos realizar esa operación Python arrojará un error diciendo que no podemos concatenar un __int__ con un __str__.\n",
    "\n",
    "El tercer caso nos hace comprender la necesidad de poder cambiar los tipos de datos en algunas situaciones, por ejemplo:\n",
    "> Crear un programa que solicite un número al usuario y que luego imprima en pantalla el mismo número aumentado en 1.\n",
    "\n",
    "Para poder escribir este programa necesitaremos al menos realizar los siguientes pasos:\n",
    "1. Pedir el número al usuario\n",
    "2. Sumarle 1 al número\n",
    "3. imprimirlo en pantalla\n",
    "\n",
    "Al comprender lo que sucede en el CASO 3, anteriormente descrito podemos anticipar que tendremos problemas en el paso 2, ya que al pedir un número al usuario, necesitaremos utilizar la función __input__ de Python pero esta función nos retorna un valor de tipo _str_ y al sumarle 1 el programa arrojará un error.\n",
    "\n",
    "Ejecuta el programa escrito en el siguiente bloque y podrás observar el error en cuestión:"
   ]
  },
  {
   "cell_type": "code",
   "execution_count": 8,
   "metadata": {},
   "outputs": [
    {
     "name": "stdin",
     "output_type": "stream",
     "text": [
      "Ingrese un numero:  10\n"
     ]
    },
    {
     "ename": "TypeError",
     "evalue": "can only concatenate str (not \"int\") to str",
     "output_type": "error",
     "traceback": [
      "\u001b[1;31m---------------------------------------------------------------------------\u001b[0m",
      "\u001b[1;31mTypeError\u001b[0m                                 Traceback (most recent call last)",
      "\u001b[1;32m<ipython-input-8-d5a9db7417c5>\u001b[0m in \u001b[0;36m<module>\u001b[1;34m\u001b[0m\n\u001b[0;32m      1\u001b[0m \u001b[0mnumero\u001b[0m \u001b[1;33m=\u001b[0m \u001b[0minput\u001b[0m\u001b[1;33m(\u001b[0m\u001b[1;34m'Ingrese un numero: '\u001b[0m\u001b[1;33m)\u001b[0m\u001b[1;33m\u001b[0m\u001b[1;33m\u001b[0m\u001b[0m\n\u001b[1;32m----> 2\u001b[1;33m \u001b[0mnumero\u001b[0m \u001b[1;33m=\u001b[0m \u001b[0mnumero\u001b[0m \u001b[1;33m+\u001b[0m \u001b[1;36m1\u001b[0m\u001b[1;33m\u001b[0m\u001b[1;33m\u001b[0m\u001b[0m\n\u001b[0m\u001b[0;32m      3\u001b[0m \u001b[0mprint\u001b[0m\u001b[1;33m(\u001b[0m\u001b[0mnumero\u001b[0m\u001b[1;33m)\u001b[0m\u001b[1;33m\u001b[0m\u001b[1;33m\u001b[0m\u001b[0m\n",
      "\u001b[1;31mTypeError\u001b[0m: can only concatenate str (not \"int\") to str"
     ]
    }
   ],
   "source": [
    "numero = input('Ingrese un numero: ')\n",
    "numero = numero + 1\n",
    "print(numero)"
   ]
  },
  {
   "cell_type": "markdown",
   "metadata": {},
   "source": [
    "Para poder solucionar este error, __necesitamos convertir la variable \"número\" a tipo entero__, un paso extra necesario en nuestra lista:\n",
    "\n",
    "1. Pedir el número al usuario\n",
    "2. Transformar el valor ingresado por el usuario a número (int)\n",
    "3. Sumarle 1 al número\n",
    "4. imprimirlo en pantalla\n",
    "\n",
    "De esta forma podemos estar seguros que nuestro programa no fallará __SIEMPRE Y CUANDO EL USUARIO INGRESE UN NÚMERO__.<br/>\n",
    "Ejecuta el siguiente bloque de código y observa lo que sucede:\n"
   ]
  },
  {
   "cell_type": "code",
   "execution_count": 9,
   "metadata": {},
   "outputs": [
    {
     "name": "stdin",
     "output_type": "stream",
     "text": [
      "Ingrese un numero:  20\n"
     ]
    },
    {
     "name": "stdout",
     "output_type": "stream",
     "text": [
      "21\n"
     ]
    }
   ],
   "source": [
    "numero = int(input('Ingrese un numero: '))\n",
    "numero = numero + 1\n",
    "print(numero)"
   ]
  },
  {
   "cell_type": "code",
   "execution_count": 18,
   "metadata": {},
   "outputs": [
    {
     "name": "stdout",
     "output_type": "stream",
     "text": [
      "<class 'int'>\n"
     ]
    }
   ],
   "source": [
    "numero2 = '8000'\n",
    "numero2 = int(numero2)\n",
    "\n",
    "print(type(numero2))"
   ]
  },
  {
   "cell_type": "markdown",
   "metadata": {},
   "source": [
    "__Ahora el programa funciona!!!!__<br>\n",
    "Intenta ejecutarlo nuevamente pero escribe una palabra en lugar de un número ¿Qué sucede?\n",
    "Eso lo veremos en otro capítulo del curso"
   ]
  }
 ],
 "metadata": {
  "kernelspec": {
   "display_name": "Python 3",
   "language": "python",
   "name": "python3"
  },
  "language_info": {
   "codemirror_mode": {
    "name": "ipython",
    "version": 3
   },
   "file_extension": ".py",
   "mimetype": "text/x-python",
   "name": "python",
   "nbconvert_exporter": "python",
   "pygments_lexer": "ipython3",
   "version": "3.8.3"
  }
 },
 "nbformat": 4,
 "nbformat_minor": 4
}
