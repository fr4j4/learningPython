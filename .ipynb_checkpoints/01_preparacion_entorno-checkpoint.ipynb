{
 "cells": [
  {
   "cell_type": "markdown",
   "metadata": {},
   "source": [
    "# Preparación del entorno para este curso\n",
    "__Necesario__\n",
    "- [Python](https://www.python.org/ftp/python/3.8.3/python-3.8.3.exe)\n",
    "\n",
    "__Opcional__\n",
    "- [Anaconda](https://www.anaconda.com/products/individual)"
   ]
  },
  {
   "cell_type": "markdown",
   "metadata": {},
   "source": [
    "# Programas, programación y lenguajes de programación\n",
    "## Programa informático\n",
    "> Un programa informático o programa de computadora es una __secuencia de instrucciones__, escritas para realizar una tarea específica en una computadora.<br/>\n",
    "\n",
    "- El computador requiere programas para poder funcionar, por lo general, ejecutando las instrucciones del programa en un procesador central (CPU)<br/>\n",
    "- El programa tiene un formato ejecutable que la computadora puede utilizar directamente para ejecutar las instrucciones<br/>\n",
    "- Una colección de programas de computadora y datos relacionados se conoce como __software__.\n",
    "\n",
    "<img src=\"https://www.learncomputerscienceonline.com/wp-content/uploads/2019/05/Computer-Programming-.jpg\"/>\n",
    "\n",
    "## Código fuente y lenguajes de programación\n",
    "Un código fuente es un __conjunto de instrucciones y órdenes lógicas__, compuestos de _algoritmos_ que se encuentran escritos en un determinado __lenguaje de programación__,\n",
    "las cuales deben ser interpretadas o compiladas, para permitir la ejecución del programa informático.<br/>\n",
    "Generalmente, el código fuente lo escriben profesionales conocidos como __programadores__.<br/>\n",
    "Este código se escribe en un lenguaje de programación.<br/>\n",
    "Posteriormente puede ser convertido en un archivo ejecutable (__lenguaje compilado__) para ser ejecutado por una unidad central de procesamiento.<br/>\n",
    "Por otra parte, los programas de computadora se pueden ejecutar con la ayuda de un intérprete (__lenguaje interpretado__), o pueden ser empotrados directamente en hardware.<br/>\n",
    "\n",
    "__[Leer más en Wikipedia...](https://es.wikipedia.org/wiki/Programa_inform%C3%A1tico)__\n",
    "# Python\n",
    "Dentro de los lenguajes informáticos, Python, pertenece al grupo de los lenguajes de programación y puede ser clasificado como un __lenguaje interpretado__, de __alto nivel__, __multiplataforma__, de __tipado dinámico__ y __multiparadigma__.\n",
    "\n",
    "## Glosario\n",
    "__Lenguajes interpretados:__ a diferencia de los compilados, no requieren de un\n",
    "compilador para ser ejecutados sino de un intérprete. Un intérprete, actúa de manera\n",
    "casi idéntica a un compilador, con la salvedad de que ejecuta el programa\n",
    "directamente, sin necesidad de generar previamente un ejecutable. Ejemplo de\n",
    "lenguajes de programación interpretado son Python, PHP, Ruby, Lisp, entre otros.\n",
    "\n",
    "__Tipado dinámico:__ un lenguaje de tipado dinámico es aquel cuyas variables, no\n",
    "requieren ser definidas asignando su tipo de datos, sino que éste, se auto-asigna en\n",
    "tiempo de ejecución, según el valor declarado.\n",
    "\n",
    "__Lenguajes de alto nivel:__ son aquellos cuya característica principal, consiste en una\n",
    "estructura sintáctica y semántica legible, acorde a las capacidades cognitivas\n",
    "humanas. A diferencia de los lenguajes de bajo nivel, son independientes de la\n",
    "arquitectura del hardware, motivo por el cual, asumen mayor portabilidad.\n",
    "\n",
    "__Multiplataforma:__ significa que puede ser interpretado en diversos Sistemas\n",
    "Operativos como GNU/Linux, Windows, Mac OS, Solaris, entre otros.\n",
    "\n",
    "__Multiparadigma:__ acepta diferentes paradigmas (técnicas) de programación, tales\n",
    "como la orientación a objetos, aspectos, la programación imperativa y funcional.\n",
    "\n"
   ]
  },
  {
   "cell_type": "code",
   "execution_count": null,
   "metadata": {},
   "outputs": [],
   "source": []
  }
 ],
 "metadata": {
  "kernelspec": {
   "display_name": "Python 3",
   "language": "python",
   "name": "python3"
  },
  "language_info": {
   "codemirror_mode": {
    "name": "ipython",
    "version": 3
   },
   "file_extension": ".py",
   "mimetype": "text/x-python",
   "name": "python",
   "nbconvert_exporter": "python",
   "pygments_lexer": "ipython3",
   "version": "3.7.6"
  }
 },
 "nbformat": 4,
 "nbformat_minor": 4
}
