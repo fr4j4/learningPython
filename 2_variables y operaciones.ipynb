{
 "cells": [
  {
   "cell_type": "markdown",
   "metadata": {},
   "source": [
    "## Variables\n",
    "\n",
    "Una variable es un espacio para almacenar datos modificables en la memoria de un computador.<br/>\n",
    "\n",
    "<img src='./static/img/variables_1.png' style='background-color:white' width=\"800px\"/>\n",
    "\n",
    "En Python, una variable se define con la sintaxis:<br/>\n",
    "__nombre_de_la_variable = valor_de_la_variable__\n",
    "\n",
    "Cada variable, tiene un nombre y un valor, el cual define a la vez, el tipo de datos de la\n",
    "variable.<br/>\n",
    "Existe un tipo de “variable”, denominada _constante_, la cual se utiliza para definir valores fijos, que no requieran ser modificados."
   ]
  },
  {
   "cell_type": "code",
   "execution_count": 9,
   "metadata": {},
   "outputs": [],
   "source": [
    "mi_numero = 1\n",
    "saludo = 'Hola mundo!!'"
   ]
  },
  {
   "cell_type": "markdown",
   "metadata": {},
   "source": [
    "Para imprimir un valor o una variable en pantalla, en Python, se utiliza la palabra clave __print__<br/>\n",
    "Se utiliza de la siguiente forma:<br/>\n",
    "__print(valor o variable)__"
   ]
  },
  {
   "cell_type": "code",
   "execution_count": 10,
   "metadata": {},
   "outputs": [
    {
     "name": "stdout",
     "output_type": "stream",
     "text": [
      "1\n",
      "Hola mundo!!\n"
     ]
    }
   ],
   "source": [
    "print(mi_numero)\n",
    "print(saludo)"
   ]
  },
  {
   "cell_type": "markdown",
   "metadata": {},
   "source": [
    "## Tipos de datos\n",
    "### Número entero\n",
    "- 1\n",
    "- 1282829\n",
    "- -500\n",
    "\n",
    "### Numero real\n",
    "- 0.0\n",
    "- 0.1\n",
    "- -0.125\n",
    "- 1000.80\n",
    "\n",
    "### Cadena o String\n",
    "Un valor de tipo string corresponde a un conjunto de caracteres. Algunos ejemplos son:\n",
    "- 'hola'\n",
    "- \"HOLA\"\n",
    "- 'esta es UNA FRASE'\n",
    "- \"Me gusta el color azul\"\n",
    "- \"El numero 7 es de la suerte\"\n",
    "- '3727983278'\n",
    "\n",
    "Cabe notar que un string se distingue por contener caracteres no numéricos y por estar delimitado entre comillas (__\"__) o cremillas (__'__). Pueden ser una u otra, pero nunca una mezcla.\n",
    "### Booleano\n",
    "Un valor booleano corresponde a un tipo de dato lógico (verdadero/falso)\n",
    "- True\n",
    "- False\n",
    "\n",
    "Existen mas tipos de datos que iremos viendo a medida que avancemos"
   ]
  },
  {
   "cell_type": "markdown",
   "metadata": {},
   "source": [
    "## Ejercicio 1: Crear variables e imprimirlas en pantalla\n",
    "- __nombre__: Tipo __string__\n",
    "- __edad__: Tipo __entero__\n",
    "- __color_favorito___: Tipo __string__\n",
    "- __agno_nacimiento__: Tipo __entero__\n",
    "- __altura__: Tipo __real__\n",
    "- __mayor_de_edad__: Tipo __booleano__"
   ]
  },
  {
   "cell_type": "code",
   "execution_count": 7,
   "metadata": {},
   "outputs": [
    {
     "name": "stdout",
     "output_type": "stream",
     "text": [
      "Juan\n",
      "25\n",
      "rojo\n",
      "1995\n",
      "1.75\n",
      "True\n"
     ]
    }
   ],
   "source": [
    "nombre = 'Juan'\n",
    "edad = 25\n",
    "color_favorito = 'rojo'\n",
    "agno_nacimiento = 1995\n",
    "altura = 1.75\n",
    "mayor_de_edad = True\n",
    "\n",
    "print(nombre)\n",
    "print(edad)\n",
    "print(color_favorito)\n",
    "print(agno_nacimiento)\n",
    "print(altura)\n",
    "print(mayor_de_edad)"
   ]
  },
  {
   "cell_type": "markdown",
   "metadata": {},
   "source": [
    "## Operaciones con variables\n",
    "\n",
    "Hemos aprendido que existen las variables y que en ellas se pueden almacenar datos. Pero cuál es la finalidad de todo esto? ¿Qué se puede hacer con estas variables? ¿Se pueden modificar o comparar? Esto lo veremos a continuación.\n",
    "\n",
    "### Operadores\n",
    "\n",
    "En un lenguaje de programación, un operador es un símbolo que le dice al compilador o intérprete que se realizará una operación matemática, relacional o lógica, la cual producirá un resultado final.\n",
    "\n",
    "#### Operadores aritméticos\n",
    "\n",
    "Los programas de computadores son ampliamente utilizados para cálculos matemáticos. Podemos escribir un programa de computador el cual pueda realizar cálculos simples como sumar dos números (2+3). También podemos escribir un programa que pueda resolver una ecuación mas compleja como $ f(x) = x^2 + 7x^3 - 5x + 9 $.\n"
   ]
  },
  {
   "cell_type": "code",
   "execution_count": 17,
   "metadata": {},
   "outputs": [
    {
     "name": "stdout",
     "output_type": "stream",
     "text": [
      "5\n"
     ]
    }
   ],
   "source": [
    "print(2 + 3)"
   ]
  },
  {
   "cell_type": "code",
   "execution_count": 18,
   "metadata": {},
   "outputs": [
    {
     "name": "stdout",
     "output_type": "stream",
     "text": [
      "9\n",
      "12\n",
      "59\n"
     ]
    }
   ],
   "source": [
    "f = lambda x: x**2 + 7*x**3 - 5*x + 9\n",
    "print(f(0))\n",
    "print(f(1))\n",
    "print(f(2))"
   ]
  },
  {
   "cell_type": "markdown",
   "metadata": {},
   "source": [
    "Tanto $ 2+3 $ como $ x^2 + 7x^3 - 5x + 9 $ se llaman __expresiones aritméticas__ y los símbolos __+__ y __-__ usados en esas expresiones se llaman __operadores aritméticos__.<br/>\n",
    "Los valores utilizados en esas expresiones como __2__, __3__, __7__, __9__, __x__, etc se llaman __operandos__.<br/>\n",
    "\n",
    "### Ejemplo de operadores aritméticos\n",
    "Supongamos que tenemos las siguientes variables:\n",
    "```python\n",
    "a = 10\n",
    "b = 20\n",
    "```\n",
    "| Operador | Descripción | Ejemplo |\n",
    "| --- | --- | --- |\n",
    "| + | Suma dos operandos | a + b resultará 30 |\n",
    "| - | Resta dos operandos | a - b resultará -10 |\n",
    "| * | Multiplica dos operandos | a * b resultará 200 |\n",
    "| / | Divide dos operandos | a / b resultará 2 |\n",
    "| % | Obtiene el resto de la división entera entre dos operandos | a % b resultará 0 |\n",
    "\n",
    "Ejemplo en Python:"
   ]
  },
  {
   "cell_type": "code",
   "execution_count": 23,
   "metadata": {},
   "outputs": [
    {
     "name": "stdout",
     "output_type": "stream",
     "text": [
      "a + b = 30\n",
      "a - b = -10\n",
      "a * b = 200\n",
      "b / a = 2.0\n",
      "b % a = 0\n"
     ]
    }
   ],
   "source": [
    "a = 10\n",
    "b = 20\n",
    "print('a + b = ', end='')\n",
    "print(a+b)\n",
    "\n",
    "print('a - b = ', end='')\n",
    "print(a-b)\n",
    "\n",
    "print('a * b = ', end='')\n",
    "print(a*b)\n",
    "\n",
    "print('b / a = ', end='')\n",
    "print(b/a)\n",
    "\n",
    "print('b % a = ', end='')\n",
    "print(b%a)"
   ]
  },
  {
   "cell_type": "markdown",
   "metadata": {},
   "source": [
    "### Operadores relacionales\n",
    "\n",
    "Supongamos que tenemos las variables _a_ y _b_ creadas anteriormente:\n",
    "```python\n",
    "a = 10\n",
    "b = 20\n",
    "```\n",
    "Es obvio pensar que __b es mayor que a__, o que __a es menor que b__ comparando sus valores. Entonces, necesitamos la ayuda de símbolos que nos permitan escribir estas expresiones. Estas expresiones se llaman __expresiones relacionales__. Utilizando el lenguaje Python, podemos escribir la expresión \"a es menor que b\" de la siguiente forma:\n",
    "```python\n",
    "a < b\n",
    "```\n",
    "Del mismo modo, para escribir la expresión \"b es mayor que a\" lo podemos hacer de la siguiente forma:\n",
    "```python\n",
    "b > a\n",
    "```\n",
    "\n",
    "Estas expresiones relacionales tienen como resultado un valor de tipo __booleano__: verdadero (__True__) o falso (__False__)\n",
    "\n",
    "La siguiente tabla muestra ejemplos de los operadores relacionales más importantes\n",
    "\n",
    "| Operador | Descripción | Ejemplo |\n",
    "| --- | --- | --- |\n",
    "| == | Compara los valores de dos variables, en caso de que sean iguales, la expresión tendrá como resultado True, en el caso contrario False | a == b resultará False |\n",
    "| != | Compara los valores de dos variables, en caso de que sean distintos, la expresión tendrá como resultado True, en el caso contrario False | a != b resultará True|\n",
    "| > | Compara los valores de dos variables, en caso de que __el primero sea mayor__ que el segundo, la expresión tendrá como resultado True, en el caso contrario False | a > b resultará False |\n",
    "| < | Compara los valores de dos variables, en caso de que __el primero sea menor__ que el segundo, la expresión tendrá como resultado True, en el caso contrario False | a < b resultará True |\n",
    "| >= | Compara los valores de dos variables, en caso de que __el primero sea mayor o igual__ que el segundo, la expresión tendrá como resultado True, en el caso contrario False | a >= b resultará False |\n",
    "| <= | Compara los valores de dos variables, en caso de que __el primero sea menor o igual__ que el segundo, la expresión tendrá como resultado True, en el caso contrario False | a <= b resultará True |\n",
    "\n",
    "Ejemplo en Python:"
   ]
  },
  {
   "cell_type": "code",
   "execution_count": 27,
   "metadata": {},
   "outputs": [
    {
     "name": "stdout",
     "output_type": "stream",
     "text": [
      "a == b es False\n",
      "a != b es True\n",
      "a  > b es False\n",
      "a  < b es True\n",
      "a >= b es False\n",
      "a <= b es True\n"
     ]
    }
   ],
   "source": [
    "a = 10\n",
    "b = 20\n",
    "\n",
    "print('a == b es ', end='')\n",
    "print(a==b)\n",
    "\n",
    "print('a != b es ', end='')\n",
    "print(a!=b)\n",
    "\n",
    "print('a  > b es ', end='')\n",
    "print(a>b)\n",
    "\n",
    "print('a  < b es ', end='')\n",
    "print(a<b)\n",
    "\n",
    "print('a >= b es ', end='')\n",
    "print(a>=b)\n",
    "\n",
    "print('a <= b es ', end='')\n",
    "print(a<=b)"
   ]
  },
  {
   "cell_type": "markdown",
   "metadata": {},
   "source": [
    "Estas expresiones relacionales se utilizan para comparar variables y realizar acciones dependiendo de los valores booleanos que estas devuelvan. Por ejemplo, dadas las variables ```a = 10 y b = 20``` podemos escribir un programa que compare sus valores e imprima en pantalla \"a es menor que b\" o \"a es mayor que b\" según corresponda:"
   ]
  },
  {
   "cell_type": "code",
   "execution_count": 28,
   "metadata": {},
   "outputs": [
    {
     "name": "stdout",
     "output_type": "stream",
     "text": [
      "a es menor que b\n"
     ]
    }
   ],
   "source": [
    "a = 10\n",
    "b = 20\n",
    "\n",
    "if(a > b):\n",
    "    print(\"a es mayor que b\")\n",
    "if(a < b):\n",
    "    print(\"a es menor que b\")"
   ]
  },
  {
   "cell_type": "markdown",
   "metadata": {},
   "source": [
    "En el código anterior hemos utilizado expresiones relacionales: __a > b__ y __a < b__.\n",
    "Estas expresiones son utilizadas dentro de una __sentencia if__ para que en caso de que se cumpla, se imprima un mensaje en pantalla. Por ahora no explicaremos sobre que es un __if__ ya que lo veremos mas adelante. Esta expresión relacional es también llamada __condición__.\n",
    "\n",
    "### Operadores lógicos\n",
    "Los operadores lógicos son quizá los más importantes en un lenguaje de programación. Estos nos ayudan a tomar decisiones basadas en ciertas condiciones.<br/>\n",
    "Supón que quieres combinar los resultados de dos condiciones. Los operadores lógicos __and__ y __or__ nos ayudarán a producir el resultado final.\n",
    "\n",
    "Supongamos que tenemos las variables __a__ y __b__ pero en esta ocación guardarán __valores booleanos__:\n",
    "```python\n",
    "a = True\n",
    "b = False\n",
    "```\n",
    "entonces:\n",
    "\n",
    "| Operador | Descripción | Ejemplo |\n",
    "| --- | --- | --- |\n",
    "| and | Operador lógico __and__. Si los dos operandos son True, entonces el resultado final será True, en caso contrario será False | a and b resultará False |\n",
    "| or | Operador lógico __or__. Si al menos uno de los dos operandos es True, entonces el resultado final será True, en caso contrario será False | a or b resultará True|\n",
    "| not | Operador lógico __not__. Se utiliza para obtener el valor contrario al que almacena el operando. | not a resultará False |\n",
    "\n",
    "\n",
    "\n",
    "\n"
   ]
  },
  {
   "cell_type": "code",
   "execution_count": 38,
   "metadata": {},
   "outputs": [
    {
     "name": "stdout",
     "output_type": "stream",
     "text": [
      "a = True\n",
      "b = False\n",
      "Esto se muestra por que a es True o b es True o ambos son True\n",
      "not a = False\n"
     ]
    }
   ],
   "source": [
    "a= True\n",
    "b = False\n",
    "\n",
    "print('a = ',end='')\n",
    "print(a)\n",
    "\n",
    "print('b = ',end='')\n",
    "print(b)\n",
    "\n",
    "if(a and b):\n",
    "    print(\"Esto se muestra por que a y b tienen el valor True\")\n",
    "    \n",
    "if (a or b):\n",
    "    print(\"Esto se muestra por que a es True o b es True o ambos son True\")\n",
    "\n",
    "print(\"not a = \", end='')\n",
    "print(not a)"
   ]
  },
  {
   "cell_type": "markdown",
   "metadata": {},
   "source": [
    "Podemos notar que el __print__ dentro del primer __if__ no se ejecuta.\n",
    "## Ejercicio 2:\n",
    "- Copia y pega el código de arriba en el recuadro de abajo\n",
    "- Modifica el código copiado para que el primer __if__ sí se ejecute"
   ]
  },
  {
   "cell_type": "code",
   "execution_count": 40,
   "metadata": {},
   "outputs": [],
   "source": [
    "#pegar código aquí"
   ]
  },
  {
   "cell_type": "markdown",
   "metadata": {},
   "source": [
    "## Ejercicio 3:\n",
    "\n",
    "Anota en un papel lo siguiente:\n",
    "```python\n",
    "(True and False or (10 > 5)) or False\n",
    "```\n",
    "\n",
    "Ahora analiza esa expresión e intenta deducir si resiltará en __True__ o __False__\n",
    "<details>\n",
    "    <summary>Ver respuesta</summary>\n",
    "    <p>\n",
    "        El resultado es <b> True </b>\n",
    "    </p>\n",
    "</details>"
   ]
  },
  {
   "cell_type": "code",
   "execution_count": 42,
   "metadata": {},
   "outputs": [
    {
     "data": {
      "text/plain": [
       "True"
      ]
     },
     "execution_count": 42,
     "metadata": {},
     "output_type": "execute_result"
    }
   ],
   "source": []
  },
  {
   "cell_type": "code",
   "execution_count": null,
   "metadata": {},
   "outputs": [],
   "source": []
  }
 ],
 "metadata": {
  "kernelspec": {
   "display_name": "Python 3",
   "language": "python",
   "name": "python3"
  },
  "language_info": {
   "codemirror_mode": {
    "name": "ipython",
    "version": 3
   },
   "file_extension": ".py",
   "mimetype": "text/x-python",
   "name": "python",
   "nbconvert_exporter": "python",
   "pygments_lexer": "ipython3",
   "version": "3.7.6"
  }
 },
 "nbformat": 4,
 "nbformat_minor": 4
}
