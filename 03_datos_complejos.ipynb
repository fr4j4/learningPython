{
 "cells": [
  {
   "cell_type": "markdown",
   "metadata": {},
   "source": [
    "## Tipos de datos complejos\n",
    "\n",
    "Además de los tipos de datos que hemos visto anteriormente (strings, números enteros, números reales y booleanos) mostraremos 3 tipos mas, que permiten guardar una __colección de datos__.\n",
    "\n",
    "Estos tipos son:\n",
    "- Tuplas\n",
    "- Listas\n",
    "- Diccionarios\n",
    "\n",
    "Estos tres tipos de datos, pueden almacenar colecciones de datos de diferentes tipos y se pueden diferenciar por su sintaxis y por la forma en la cual los datos pueden ser manipulados. \n",
    "\n",
    "### Tuplas\n",
    "Una tupla es una variable __que permite almacenar varios datos inmutables__ (que no pueden ser modificados una vez que son creados).\n",
    "Los datos que almacena pueden ser de tipos diferentes:"
   ]
  },
  {
   "cell_type": "code",
   "execution_count": 1,
   "metadata": {},
   "outputs": [],
   "source": [
    "mi_tupla = ('cadena de texto', 15, 2.8, 'otro texto', 25)"
   ]
  },
  {
   "cell_type": "markdown",
   "metadata": {},
   "source": [
    "Se puede acceder a cada uno de los datos mediante su índice correspondiente, siendo 0 (número cero), el índice del primer elemento:"
   ]
  },
  {
   "cell_type": "code",
   "execution_count": 8,
   "metadata": {},
   "outputs": [
    {
     "name": "stdout",
     "output_type": "stream",
     "text": [
      "15\n",
      "25\n"
     ]
    }
   ],
   "source": [
    "print(mi_tupla[1])\n",
    "print(mi_tupla[4])"
   ]
  },
  {
   "cell_type": "markdown",
   "metadata": {},
   "source": [
    "También se puede acceder a una porción de la tupla, indicando (opcionalmente) desde el índice de inicio hasta el índice de fin (__importante__: no inclusivo).\n",
    "A esto se le conoce como slicing (rebanar en español):"
   ]
  },
  {
   "cell_type": "code",
   "execution_count": 7,
   "metadata": {},
   "outputs": [
    {
     "name": "stdout",
     "output_type": "stream",
     "text": [
      "(15, 2.8, 'otro texto')\n",
      "('otro texto', 25)\n",
      "('cadena de texto', 15)\n"
     ]
    }
   ],
   "source": [
    "print(mi_tupla[1:4])  # toma los elementos desde el índice 1 hasta el 3 \n",
    "print(mi_tupla[3:])   # toma los elementos desde el índice 3 hasta el final\n",
    "print(mi_tupla[:2])   # toma los elementos desde el principio hasta el índice 1"
   ]
  },
  {
   "cell_type": "markdown",
   "metadata": {},
   "source": [
    "También existen otras formas de acceder a los elementos de la tupla. Si utilizamos un número negativo podremos acceder de forma inversa a los valores guardados por la tupla (de atrás hacia adelante).\n",
    "\n",
    "Es importante notar que si se accede con valores negativos el valor -1 hace referencia al último elemento."
   ]
  },
  {
   "cell_type": "code",
   "execution_count": 10,
   "metadata": {},
   "outputs": [
    {
     "name": "stdout",
     "output_type": "stream",
     "text": [
      "25\n",
      "otro texto\n",
      "2.8\n",
      "15\n"
     ]
    }
   ],
   "source": [
    "print(mi_tupla[-1])\n",
    "print(mi_tupla[-2])\n",
    "print(mi_tupla[-3])\n",
    "print(mi_tupla[-4])"
   ]
  },
  {
   "cell_type": "markdown",
   "metadata": {},
   "source": [
    "### Listas\n",
    "Una es lista es similar a una tupla, con la diferencia principal de que __permite modificar los datos una vez creados__.<br/>\n",
    "Crearemos una lista con los mismos valores definidos en la tupla anterior:"
   ]
  },
  {
   "cell_type": "code",
   "execution_count": 26,
   "metadata": {},
   "outputs": [],
   "source": [
    "mi_lista = ['cadena de texto', 15, 2.8, 'otro texto', 25]"
   ]
  },
  {
   "cell_type": "markdown",
   "metadata": {},
   "source": [
    "Para acceder a los datos de una lista se hace de la misma manera que para las tuplas, utilizando sus índices:"
   ]
  },
  {
   "cell_type": "code",
   "execution_count": 27,
   "metadata": {},
   "outputs": [
    {
     "name": "stdout",
     "output_type": "stream",
     "text": [
      "15\n",
      "25\n"
     ]
    }
   ],
   "source": [
    "print(mi_lista[1])\n",
    "print(mi_lista[4])"
   ]
  },
  {
   "cell_type": "markdown",
   "metadata": {},
   "source": [
    "Como se mencionó mas arriba, __las listas no son inmutables__, es decir, permiten modificar los datos almacenados."
   ]
  },
  {
   "cell_type": "code",
   "execution_count": 28,
   "metadata": {},
   "outputs": [
    {
     "name": "stdout",
     "output_type": "stream",
     "text": [
      "['cadena de texto', 15, 2.8, 'otro texto', 25]\n",
      "[10000, 15, 2.8, 'otro texto', 25]\n"
     ]
    }
   ],
   "source": [
    "print(mi_lista)  # mostramos la lista completa\n",
    "mi_lista[0] = 10000 # cambiamos el valor del primer elemento de la lista\n",
    "print(mi_lista)  # mostramos la lista completa nuevamente"
   ]
  },
  {
   "cell_type": "markdown",
   "metadata": {},
   "source": [
    "En el bloque de código anterior hemos cambiado el primer elemento de la lista (el índice 0). Para comprobaro imprimimos la lista antes y después del cambio."
   ]
  },
  {
   "cell_type": "markdown",
   "metadata": {},
   "source": [
    "Tambien podremos agregar nuevos elementos a una lista utilizando __append__:"
   ]
  },
  {
   "cell_type": "code",
   "execution_count": 29,
   "metadata": {},
   "outputs": [
    {
     "name": "stdout",
     "output_type": "stream",
     "text": [
      "[10000, 15, 2.8, 'otro texto', 25]\n",
      "[10000, 15, 2.8, 'otro texto', 25, 'nuevo dato']\n"
     ]
    }
   ],
   "source": [
    "print(mi_lista)\n",
    "mi_lista.append('nuevo dato')\n",
    "print(mi_lista)"
   ]
  },
  {
   "cell_type": "markdown",
   "metadata": {},
   "source": [
    "Si necesitamos eliminar un elemento de la lista podemos hacerlo utilizando __del__."
   ]
  },
  {
   "cell_type": "code",
   "execution_count": 30,
   "metadata": {},
   "outputs": [
    {
     "name": "stdout",
     "output_type": "stream",
     "text": [
      "[10000, 15, 2.8, 'otro texto', 25, 'nuevo dato']\n",
      "[10000, 2.8, 'otro texto', 25, 'nuevo dato']\n"
     ]
    }
   ],
   "source": [
    "print(mi_lista)\n",
    "del mi_lista[1]\n",
    "print(mi_lista)"
   ]
  },
  {
   "cell_type": "markdown",
   "metadata": {},
   "source": [
    "Hemos eliminado el elemento de índice 1 de la lista"
   ]
  },
  {
   "cell_type": "markdown",
   "metadata": {},
   "source": [
    "### Diccionarios\n",
    "Como vimos mas arriba, en listas y tuplas se accede a los elementos almacenados utilizando su número de índice. Los diccionarios permiten utilizar __una clave__ para declarar y acceder a los valores.\n",
    "```python\n",
    "mi_diccionario = {\n",
    "    'clave_1': valor_1,\n",
    "    'clave_2': valor_2,\n",
    "    ...\n",
    "    'clave_n': valor_n\n",
    "}\n",
    "```\n",
    "Vamos a probar con un ejemplo, crearemos un diccionario que guarde datos de una persona:"
   ]
  },
  {
   "cell_type": "code",
   "execution_count": 44,
   "metadata": {},
   "outputs": [
    {
     "name": "stdout",
     "output_type": "stream",
     "text": [
      "{'nombres': 'Roberto Javier', 'apellidos': 'Sanhueza Contreras', 'edad': 24, 'color_favorito': 'rojo', 'donador_organos': True, 'nacionalidad': 'chilena', 'numero_favorito': 7, 'direccion': 'Calle falsa #123'}\n"
     ]
    }
   ],
   "source": [
    "datos_persona = {\n",
    "    'nombres': 'Roberto Javier',\n",
    "    'apellidos': 'Sanhueza Contreras',\n",
    "    'edad': 24,\n",
    "    'color_favorito': 'rojo',\n",
    "    'donador_organos': True,\n",
    "    'nacionalidad': 'chilena',\n",
    "    'numero_favorito': 7,\n",
    "    'direccion': 'Calle falsa #123'\n",
    "}\n",
    "\n",
    "print(datos_persona)  # imprimiremos datos_persona completo en pantalla"
   ]
  },
  {
   "cell_type": "markdown",
   "metadata": {},
   "source": [
    "Podemos acceder a cualquier valor guardado indicando la clave:"
   ]
  },
  {
   "cell_type": "code",
   "execution_count": 42,
   "metadata": {},
   "outputs": [
    {
     "name": "stdout",
     "output_type": "stream",
     "text": [
      "Roberto Javier\n",
      "24\n",
      "Calle falsa #123\n"
     ]
    }
   ],
   "source": [
    "print(datos_persona['nombres'])\n",
    "print(datos_persona['edad'])\n",
    "print(datos_persona['direccion'])"
   ]
  },
  {
   "cell_type": "markdown",
   "metadata": {},
   "source": [
    "Podemos cambiar un valor de forma similar a las listas, sólo que ahora necesitamos indicar la clave:"
   ]
  },
  {
   "cell_type": "code",
   "execution_count": 45,
   "metadata": {},
   "outputs": [
    {
     "name": "stdout",
     "output_type": "stream",
     "text": [
      "{'nombres': 'Roberto Javier', 'apellidos': 'Sanhueza Contreras', 'edad': 24, 'color_favorito': 'rojo', 'donador_organos': True, 'nacionalidad': 'chilena', 'numero_favorito': 7, 'direccion': 'Calle falsa #123'}\n",
      "{'nombres': 'Miguel Eduardo', 'apellidos': 'Sanhueza Contreras', 'edad': 24, 'color_favorito': 'rojo', 'donador_organos': True, 'nacionalidad': 'chilena', 'numero_favorito': 7, 'direccion': 'Calle falsa #123'}\n"
     ]
    }
   ],
   "source": [
    "print(datos_persona)\n",
    "datos_persona['nombres'] = 'Miguel Eduardo'\n",
    "print(datos_persona)"
   ]
  },
  {
   "cell_type": "markdown",
   "metadata": {},
   "source": [
    "Podemos eliminar un valor utilizando __del__:"
   ]
  },
  {
   "cell_type": "code",
   "execution_count": 46,
   "metadata": {},
   "outputs": [
    {
     "name": "stdout",
     "output_type": "stream",
     "text": [
      "{'nombres': 'Miguel Eduardo', 'apellidos': 'Sanhueza Contreras', 'edad': 24, 'color_favorito': 'rojo', 'donador_organos': True, 'nacionalidad': 'chilena', 'numero_favorito': 7, 'direccion': 'Calle falsa #123'}\n",
      "{'nombres': 'Miguel Eduardo', 'apellidos': 'Sanhueza Contreras', 'edad': 24, 'color_favorito': 'rojo', 'donador_organos': True, 'numero_favorito': 7, 'direccion': 'Calle falsa #123'}\n"
     ]
    }
   ],
   "source": [
    "print(datos_persona)\n",
    "del datos_persona['nacionalidad']\n",
    "print(datos_persona)"
   ]
  },
  {
   "cell_type": "markdown",
   "metadata": {},
   "source": [
    "Y podemos agregar nuevos valores indicando una clave que no esté presente en el diccionario:"
   ]
  },
  {
   "cell_type": "code",
   "execution_count": 47,
   "metadata": {},
   "outputs": [
    {
     "name": "stdout",
     "output_type": "stream",
     "text": [
      "{'nombres': 'Miguel Eduardo', 'apellidos': 'Sanhueza Contreras', 'edad': 24, 'color_favorito': 'rojo', 'donador_organos': True, 'numero_favorito': 7, 'direccion': 'Calle falsa #123'}\n",
      "{'nombres': 'Miguel Eduardo', 'apellidos': 'Sanhueza Contreras', 'edad': 24, 'color_favorito': 'rojo', 'donador_organos': True, 'numero_favorito': 7, 'direccion': 'Calle falsa #123', 'pais': 'chile'}\n"
     ]
    }
   ],
   "source": [
    "print(datos_persona)\n",
    "datos_persona['pais'] = 'chile'\n",
    "print(datos_persona)"
   ]
  },
  {
   "cell_type": "code",
   "execution_count": null,
   "metadata": {},
   "outputs": [],
   "source": []
  }
 ],
 "metadata": {
  "kernelspec": {
   "display_name": "Python 3",
   "language": "python",
   "name": "python3"
  },
  "language_info": {
   "codemirror_mode": {
    "name": "ipython",
    "version": 3
   },
   "file_extension": ".py",
   "mimetype": "text/x-python",
   "name": "python",
   "nbconvert_exporter": "python",
   "pygments_lexer": "ipython3",
   "version": "3.7.6"
  }
 },
 "nbformat": 4,
 "nbformat_minor": 4
}
