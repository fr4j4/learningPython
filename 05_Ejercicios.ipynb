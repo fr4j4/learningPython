{
 "cells": [
  {
   "cell_type": "markdown",
   "metadata": {},
   "source": [
    "# Ejercicios propuestos"
   ]
  },
  {
   "cell_type": "markdown",
   "metadata": {},
   "source": [
    "## Ejercicio #1\n",
    "Crear un programa que solicite el año de nacimiento al usuario e imprima en pantalla si el usuario es menor de edad o mayor de edad"
   ]
  },
  {
   "cell_type": "code",
   "execution_count": 1,
   "metadata": {},
   "outputs": [
    {
     "name": "stdin",
     "output_type": "stream",
     "text": [
      "ingrese agno de nacimiento:  1992\n"
     ]
    },
    {
     "name": "stdout",
     "output_type": "stream",
     "text": [
      "Mayor de edad\n"
     ]
    }
   ],
   "source": [
    "# Escribir aquí\n",
    "# Para saber si una persona es mayor de edad comparamos la edad y debe ser mayor o igual a 18\n",
    "agno = int(input('ingrese agno de nacimiento: '))\n",
    "edad = 2020 - agno\n",
    "\n",
    "if edad >= 18:\n",
    "    print('Mayor de edad')\n",
    "else: \n",
    "    print('Menor de edad')\n",
    "    "
   ]
  },
  {
   "cell_type": "markdown",
   "metadata": {},
   "source": [
    "## Ejercicio #2\n",
    "Crear un programa que solicite un número entre 1 y 12 (inclusivo). El programa debe:\n",
    "- __Validar__ que el número ingresado esté entre 1 y 12. En caso contrario, deben volver a pedirse.\n",
    "- Debe imprimir en pantalla el mes correspondiente al número\n",
    "\n",
    "__Debe utilizar alguna estructura de datos complejos a su elección para resolver este ejercicio (tupla, lista o diccionario).__"
   ]
  },
  {
   "cell_type": "code",
   "execution_count": 11,
   "metadata": {},
   "outputs": [
    {
     "name": "stdin",
     "output_type": "stream",
     "text": [
      "ingrese un numero 10\n"
     ]
    },
    {
     "name": "stdout",
     "output_type": "stream",
     "text": [
      "Octubre\n"
     ]
    }
   ],
   "source": [
    "# Escribir aquí\n",
    "numero = int(input('ingrese un numero'))\n",
    "'''\n",
    "while(not(numero >=1 and numero <=12)):\n",
    "    numero = int(input('ingrese un numero'))\n",
    "'''\n",
    "\n",
    "while(numero <1 or numero >12):\n",
    "    numero = int(input('ingrese un numero'))\n",
    "\n",
    "\n",
    "meses = ('Enero','Febrero','Marzo', 'Abril','Mayo','Junio','Julio','Agosto','Septiembre','Octubre','Noviembre','Diciembre')\n",
    "print(meses[numero - 1])"
   ]
  },
  {
   "cell_type": "markdown",
   "metadata": {},
   "source": [
    "## Ejercicio #3\n",
    "\n",
    "Crear un programa que solicite al usuario un número entre 1 y 10 (inclusivo). El programa debe:\n",
    "- Validar que el número ingresado esté entre 1 y 10. En caso contrario, deben volver a pedirse.\n",
    "- Calcular el factorial de ese número e imprimirlo en pantalla\n",
    "\n",
    "[Definición de número factorial en Wikipedia](https://es.wikipedia.org/wiki/Factorial)"
   ]
  },
  {
   "cell_type": "code",
   "execution_count": 13,
   "metadata": {},
   "outputs": [
    {
     "name": "stdin",
     "output_type": "stream",
     "text": [
      "ingrese un numero 5\n"
     ]
    },
    {
     "name": "stdout",
     "output_type": "stream",
     "text": [
      "120\n"
     ]
    }
   ],
   "source": [
    "# Escribir aquí\n",
    "numero = int(input('ingrese un numero'))\n",
    "while(numero <1 or numero >12):\n",
    "    numero = int(input('ingrese un numero'))\n",
    "\n",
    "factorial = 1\n",
    "for i in range(2,numero + 1):\n",
    "    factorial = i * factorial\n",
    "print(factorial)"
   ]
  },
  {
   "cell_type": "markdown",
   "metadata": {},
   "source": [
    "## Ejercicio #3-B\n",
    "\n",
    "Crear un programa que solicite al usuario un número \"n\" entre 5 y 10 (inclusivo). El programa debe:\n",
    "- Validar que el número ingresado \"n\" esté entre 5 y 10. En caso contrario, deben volver a pedirse.\n",
    "- Solicitar \"n\" números\n",
    "- Calcular el promedio de los \"n\" números ingresados\n",
    "\n",
    "tip:\n",
    "- Para obtener el promedio deben guardar la suma de todos los numeros y después dividir por el total\n",
    "\n",
    "[Definición de promedio en Wikipedia](https://es.wikipedia.org/wiki/Media_aritm%C3%A9tica)"
   ]
  },
  {
   "cell_type": "code",
   "execution_count": 28,
   "metadata": {},
   "outputs": [
    {
     "name": "stdin",
     "output_type": "stream",
     "text": [
      "ingrese un numero entre 5 y 10 5\n",
      "Ingrese numero:  10\n",
      "Ingrese numero:  20\n",
      "Ingrese numero:  30\n",
      "Ingrese numero:  40\n",
      "Ingrese numero:  50\n"
     ]
    },
    {
     "name": "stdout",
     "output_type": "stream",
     "text": [
      "30.0\n"
     ]
    }
   ],
   "source": [
    "n = int(input('ingrese un numero entre 5 y 10'))\n",
    "while(n <5 or n >10):\n",
    "    n = int(input('ingrese un numero entre 5 y 10'))\n",
    "\n",
    "suma = 0\n",
    "for i in range(0,n):\n",
    "    numero = int(input('Ingrese numero: '))\n",
    "    suma = suma + numero\n",
    "    \n",
    "promedio = suma/n\n",
    "print(promedio)"
   ]
  },
  {
   "cell_type": "code",
   "execution_count": 32,
   "metadata": {},
   "outputs": [
    {
     "name": "stdin",
     "output_type": "stream",
     "text": [
      "ingrese un numero entre 5 y 10 10\n",
      "Ingrese un numero:  10\n",
      "Ingrese un numero:  20\n",
      "Ingrese un numero:  30\n",
      "Ingrese un numero:  5\n",
      "Ingrese un numero:  0\n",
      "Ingrese un numero:  14\n",
      "Ingrese un numero:  45\n",
      "Ingrese un numero:  5\n",
      "Ingrese un numero:  5\n",
      "Ingrese un numero:  8\n"
     ]
    },
    {
     "name": "stdout",
     "output_type": "stream",
     "text": [
      "14.2\n"
     ]
    }
   ],
   "source": [
    "n = int(input('ingrese un numero entre 5 y 10'))\n",
    "while(n <5 or n >10):\n",
    "    n = int(input('ingrese un numero entre 5 y 10'))\n",
    "\n",
    "suma = 0\n",
    "contador = 0 # ayuda a contar cuantas veces he pedido el numero \n",
    "\n",
    "while (contador < n):\n",
    "    numero = int(input('Ingrese un numero: '))\n",
    "    suma = suma + numero\n",
    "    contador = contador + 1\n",
    "\n",
    "promedio = suma/n\n",
    "print(promedio)"
   ]
  },
  {
   "cell_type": "markdown",
   "metadata": {},
   "source": [
    "## Ejercicio #4\n",
    "Crear un programa que solicite dos números al usuario. Asumiendo que el primer número es menor que el segundo, debe imprimir en pantalla números consecutivos del primero al segundo.\n",
    "Por ejemplo: Si el usuario ingresa los números 5 y 13, el programa mostrará lo siguiente en pantalla:\n",
    "```console\n",
    "5\n",
    "6\n",
    "7\n",
    "8\n",
    "9\n",
    "10\n",
    "11\n",
    "12\n",
    "13\n",
    "```\n",
    "Debe escribir dos implementaciones:\n",
    "- Utilizando __range__ y __for__\n",
    "- Utilizando __while__"
   ]
  },
  {
   "cell_type": "code",
   "execution_count": 1,
   "metadata": {},
   "outputs": [],
   "source": [
    "# implementación 1"
   ]
  },
  {
   "cell_type": "code",
   "execution_count": 2,
   "metadata": {},
   "outputs": [],
   "source": [
    "# implementación 2"
   ]
  },
  {
   "cell_type": "markdown",
   "metadata": {},
   "source": [
    "## Ejercicio #5\n",
    "Basado en cualquiera de las implementaciones mostradas anteriormente, mejore el programa para que:\n",
    "- Verifique que efectivamente el primer número es menor que el segundo\n",
    "- En caso de que no se cumpla lo anterior señalado, que vuelva a solicitar ambos números (hasta que se cumpla que el primero sea menor que el segundo). \n"
   ]
  },
  {
   "cell_type": "code",
   "execution_count": 3,
   "metadata": {},
   "outputs": [],
   "source": [
    "# escribir aquí"
   ]
  },
  {
   "cell_type": "markdown",
   "metadata": {},
   "source": [
    "## Ejercicio #6\n",
    "> Crear un programa de emule un juego de adivinar el número: El programa deberá generar un número aleatorio entre 1 y 10. <br/>\n",
    "Luego, el programa debe pedir al usuario que adivine el número generado. El usuario tendrá tres intentos para poder adivinar.<br/>\n",
    "Por cada intento fallido debe mostrarse en pantalla si es que el número generado es menor o mayor que el número ingresado por el usuario<br/>\n",
    "Si logra adivinar el número debe mostrarse en pantalla un mensaje de felicitaciones, en caso contrario, un mensaje de fin del juego.\n",
    "\n",
    "### Ayuda: Generar números aleatorios\n",
    "Para generar numeros aleatorios, primero __importaremos__ un __paquete__ de Python llamado _Random_. Mas adelante veremos que son los paquetes y que significa importarlos.<br/>\n",
    "Una vez importado el paquete Random, podemos usar la función __randint__ para generar un número aleatorio entre dos valores posibles:\n",
    "\n",
    "```python\n",
    "from random import randint\n",
    "numero_generado = randint(0,100)\n",
    "print(numero_generado)\n",
    "```\n",
    "\n",
    "En este ejemplo, el número generado será aleatorio entre 0 y 100.<br/>\n",
    "Intenta copiar este código y ejecutarlo para comprobar que funciona.\n",
    "### Ejemplo de juego:\n",
    "![imagen_1](./static/img/juego_adivina_1.png)\n",
    "![imagen_2](./static/img/juego_adivina_2.png)"
   ]
  },
  {
   "cell_type": "code",
   "execution_count": null,
   "metadata": {},
   "outputs": [],
   "source": []
  }
 ],
 "metadata": {
  "kernelspec": {
   "display_name": "Python 3",
   "language": "python",
   "name": "python3"
  },
  "language_info": {
   "codemirror_mode": {
    "name": "ipython",
    "version": 3
   },
   "file_extension": ".py",
   "mimetype": "text/x-python",
   "name": "python",
   "nbconvert_exporter": "python",
   "pygments_lexer": "ipython3",
   "version": "3.8.3"
  }
 },
 "nbformat": 4,
 "nbformat_minor": 4
}
